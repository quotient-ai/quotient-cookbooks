{
  "cells": [
    {
      "cell_type": "markdown",
      "metadata": {
        "vscode": {
          "languageId": "raw"
        }
      },
      "source": [
        "# Evaluate AI Search Quality with Exa & Quotient\n",
        "\n",
        "<a target=\"_blank\" href=\"https://colab.research.google.com/github/quotient-ai/quotient-cookbooks/blob/main/cookbooks/search/exa/exa-quotient-detections.ipynb\">\n",
        " <img src=\"https://colab.research.google.com/assets/colab-badge.svg\" alt=\"Open In Colab\"/>\n",
        "</a>\n",
        "\n",
        "This cookbook demonstrates how to monitor AI search results from [Exa](https://exa.ai/) for hallucinations or retrieval issues using [Quotient AI](https://www.quotientai.co/).\n",
        "\n",
        "We'll cover:\n",
        "- Performing AI-powered search using Exa's Python SDK\n",
        "- Logging search results in Quotient\n",
        "- Automatically detecting hallucinations and irrelevant results\n",
        "- Understanding common failure cases and how to fix them\n"
      ]
    },
    {
      "cell_type": "code",
      "execution_count": 1,
      "metadata": {},
      "outputs": [
        {
          "name": "stdout",
          "output_type": "stream",
          "text": [
            "Note: you may need to restart the kernel to use updated packages.\n"
          ]
        }
      ],
      "source": [
        "# Install dependencies\n",
        "! pip install -qU quotientai exa-py tqdm\n"
      ]
    },
    {
      "cell_type": "markdown",
      "metadata": {
        "vscode": {
          "languageId": "raw"
        }
      },
      "source": [
        "## Step 0: Grab your API keys\n",
        "\n",
        "We'll use API keys from:\n",
        " - [Exa](https://exa.ai/) — get your API key from the [Exa dashboard](https://dashboard.exa.ai/)\n",
        " - [Quotient AI](https://www.quotientai.co) — get your API key from the [Quotient AI app](https://app.quotientai.co)\n",
        " \n",
        "Both Exa and Quotient offer generous free tiers to get started; you can check out their pricing [here](https://exa.ai/pricing) and [here](https://www.quotientai.co/pricing).\n"
      ]
    },
    {
      "cell_type": "code",
      "execution_count": 1,
      "metadata": {},
      "outputs": [],
      "source": [
        "import os\n",
        "# Set API keys:\n",
        "os.environ['EXA_API_KEY'] = \"exa_api_key_here\"\n",
        "os.environ['QUOTIENT_API_KEY'] =\"quotient_api_key_here\""
      ]
    },
    {
      "cell_type": "markdown",
      "metadata": {
        "vscode": {
          "languageId": "raw"
        }
      },
      "source": [
        "## Step 1: Connect to Exa Search and Quotient monitoring\n",
        "\n",
        "We'll use Exa's Python SDK to retrieve content from the web and get AI-generated answers for each query. The `answer()` method performs an Exa search and uses an LLM to generate either:\n",
        "\n",
        "1. A direct answer for specific queries (i.e., \"What is the capital of France?\" would return \"Paris\")\n",
        "2. A detailed summary with citations for open-ended queries (i.e., \"What is the state of AI in healthcare?\" would return a summary with citations to relevant sources)\n"
      ]
    },
    {
      "cell_type": "code",
      "execution_count": 2,
      "metadata": {},
      "outputs": [],
      "source": [
        "from exa_py import Exa\n",
        "\n",
        "# Initialize Exa client\n",
        "exa = Exa(os.getenv(\"EXA_API_KEY\"))"
      ]
    },
    {
      "cell_type": "markdown",
      "metadata": {},
      "source": [
        "Quotient is an intelligent observability platform designed for retrieval-augmented and search-augmented AI systems.\n",
        "\n",
        "Quotient performs automated detections on two key fronts each time you send it a log:\n",
        "\n",
        "- **Hallucination:** Identifies statements in the model output that are unsupported by the retrieved documents or that contradict them. This flagging is done at the sentence level and returns a boolean indicator if any part of the answer contains a hallucination.\n",
        "\n",
        "- **Document Relevance:** Evaluates each retrieved document to determine whether it meaningfully contributed to grounding the answer. Quotient returns relevance labels for all documents, helping gauge retrieval and search quality.\n",
        "  \n",
        "These capabilities are enabled automatically when `hallucination_detection=True` is set during logger initialization.\n",
        "\n",
        "Below, we'll set up the Quotient logger, send each AI-search result for automatic evaluation, and retrieve structured logs and detections:"
      ]
    },
    {
      "cell_type": "code",
      "execution_count": 5,
      "metadata": {},
      "outputs": [
        {
          "data": {
            "text/plain": [
              "<quotientai.client.QuotientLogger at 0x106add540>"
            ]
          },
          "execution_count": 5,
          "metadata": {},
          "output_type": "execute_result"
        }
      ],
      "source": [
        "from quotientai import QuotientAI\n",
        "\n",
        "# Initialize Quotient SDK\n",
        "\n",
        "quotient = QuotientAI()\n",
        "\n",
        "quotient.logger.init(\n",
        "    # Name your application or project\n",
        "    app_name=\"exa-answer-eval\",\n",
        "    # Set the environment (e.g., \"dev\", \"prod\", \"staging\")\n",
        "    environment=\"test\",\n",
        "    # Set the sample rate for logging (0-1.0)\n",
        "    sample_rate=1.0,\n",
        "    # Enable hallucination detection\n",
        "    hallucination_detection=True,\n",
        "    # Set the sample rate for  detections (0-1.0)\n",
        "    hallucination_detection_sample_rate=1.0,\n",
        ")"
      ]
    },
    {
      "cell_type": "markdown",
      "metadata": {
        "vscode": {
          "languageId": "raw"
        }
      },
      "source": [
        "## Step 2: Get a set of example queries\n",
        "\n",
        "We'll evaluate on a set of realistic user queries covering a diverse set of topics. From each sample, we will use the `question` attribute to run a fresh search and compare the generated answer against retrieved documents.\n"
      ]
    },
    {
      "cell_type": "code",
      "execution_count": 3,
      "metadata": {},
      "outputs": [],
      "source": [
        "import json\n",
        "\n",
        "# Load queries from file\n",
        "with open(\"search_queries.jsonl\") as f:\n",
        "    queries = [json.loads(line)[\"question\"] for line in f]"
      ]
    },
    {
      "cell_type": "markdown",
      "metadata": {},
      "source": [
        "Alternatively, you can connect Quotient to a live development or production environment and run detections automatically as data comes in — no manual setup required beyond the few-lines-of-code initial integration."
      ]
    },
    {
      "cell_type": "markdown",
      "metadata": {
        "vscode": {
          "languageId": "raw"
        }
      },
      "source": [
        "## Step 3: Query Exa for each example query and log your results in Quotient\n",
        "\n",
        "Let's run fresh searches for a subset of examples using Exa's Python SDK.\n"
      ]
    },
    {
      "cell_type": "code",
      "execution_count": 7,
      "metadata": {},
      "outputs": [
        {
          "name": "stdout",
          "output_type": "stream",
          "text": [
            "\n",
            "🧠 What is the top emerging technology in 2025 according to the article '25 New Technology Trends for 2025'?\n",
            "➡️ Agentic AI is the top emerging technology in 2025. ([Gartner](https://www.gartner.com/en/articles/top-technology-trends-2025), [Simplilearn.com](https://www.simplilearn.com/top-technology-trends-and-jobs-article))\n",
            "\n",
            "📚 Found 8 citations\n",
            "📝 Logged to Quotient with log_id: 7c7b57f4-78c4-4753-9cd9-a12bd7162b6a\n",
            "\n",
            "🧠 What is the name of the 105-qubit quantum processor unveiled by Alphabet?\n",
            "➡️ Willow is the name of the 105-qubit quantum processor unveiled by Alphabet. ([PostQuantum.com](https://postquantum.com/industry-news/google-willow-quantum-chip), [Google Blog](https://blog.google/technology/research/google-willow-quantum-chip), [quantumcomputingreport.com](https://quantumcomputingreport.com/google-unveils-the-105-qubit-willow-chip-and-demonstrates-new-levels-of-rcs-benchmark-performance-and-quantum-error-correction-below-the-threshold), [livescience.com](https://www.livescience.com/technology/computing/google-willow-quantum-computing-chip-solved-a-problem-the-best-supercomputer-taken-a-quadrillion-times-age-of-the-universe-to-crack), [hackster.io](https://www.hackster.io/news/google-quantum-ai-unveils-willow-a-quantum-processor-that-proves-the-bigger-the-better-20742dda8d37), [CNBC](https://www.cnbc.com/2024/12/10/google-claims-quantum-milestone-but-cant-solve-real-world-problems-.html))\n",
            "\n",
            "📚 Found 8 citations\n",
            "📝 Logged to Quotient with log_id: 8446d9e8-e36d-4243-b54b-d38f970e4eed\n",
            "\n",
            "🧠 What is the projected market size of the global 5G market by 2026 according to the article 'Top 25 New Technology Trends in 2025' on GeeksforGeeks?\n",
            "➡️ $667.90 billion ([GeeksforGeeks](https://www.geeksforgeeks.org/top-new-technology-trends))\n",
            "\n",
            "📚 Found 8 citations\n",
            "📝 Logged to Quotient with log_id: e2d8f7a6-6fec-4b32-bf47-9a62d8272bd1\n",
            "\n",
            "🧠 According to the 2025 AI Index from Stanford University’s Institute for Human-Centered Artificial Intelligence, how many notable AI models came from the United States in 2024?\n",
            "➡️ 40 ([PDF] Artificial Intelligence Index Report 2025 - AWS](https://hai-production.s3.amazonaws.com/files/hai_ai_index_report_2025.pdf), [Stanford HAI's 2025 AI Index Reveals Record Growth in AI ...](https://www.businesswire.com/news/home/20250407539812/en/Stanford-HAIs-2025-AI-Index-Reveals-Record-Growth-in-AI-Capabilities-Investment-and-Regulation), [12 Graphs That Explain the State of AI in 2025 - IEEE Spectrum](https://spectrum.ieee.org/ai-index-2025))\n",
            "\n",
            "📚 Found 8 citations\n",
            "📝 Logged to Quotient with log_id: 033d7a46-b83d-41f5-9eab-b9c927a61705\n",
            "\n",
            "🧠 What is the title of the article discussing the impact of AI on business, industry, and everyday life by 2025?\n",
            "➡️ \"AI in the workplace: A report for 2025\" ([McKinsey](https://www.mckinsey.com/capabilities/mckinsey-digital/our-insights/superagency-in-the-workplace-empowering-people-to-unlock-ais-full-potential-at-work))\n",
            "\n",
            "📚 Found 8 citations\n",
            "📝 Logged to Quotient with log_id: 16c64548-0a28-47be-82b6-374d01b0beb8\n",
            "\n",
            "🧠 When did the Morgan Stanley Technology, Media & Telecom Conference take place in 2025?\n",
            "➡️ March 4, 2025, and March 5, 2025. ([investors.anterix.com](https://investors.anterix.com/events/event-details/morgan-stanley-technology-media-telecom-conference-0), [nordicsemi.com](https://www.nordicsemi.com/Investor-Relations/Morgan-Stanley-TMT-Conference-2025), [nexstar.tv](https://www.nexstar.tv/morgan_stanley_tmt_conference_2025_webcast))\n",
            "\n",
            "📚 Found 8 citations\n",
            "📝 Logged to Quotient with log_id: 15c7cf52-d987-4a83-a1a4-21a4ae1e1e67\n",
            "\n",
            "🧠 Who were awarded the Nobel Prize for chemistry in October 2024 for their work on AI-related protein folding tools?\n",
            "➡️ David Baker, Demis Hassabis, and John M. Jumper were awarded the 2024 Nobel Prize in Chemistry. ([HHMI](https://www.hhmi.org/hhmi-david-baker-wins-2024-nobel-chemistry), [NobelPrize.org](https://www.nobelprize.org/prizes/chemistry/2024/press-release), [technologyreview.com](https://www.technologyreview.com/2024/10/09/1105335/google-deepmind-wins-joint-nobel-prize-in-chemistry-for-protein-prediction-ai), [nature.com](https://www.nature.com/articles/d41586-024-03214-7), [deepmind.google](https://deepmind.google/discover/blog/demis-hassabis-john-jumper-awarded-nobel-prize-in-chemistry), [cen.acs.org](https://cen.acs.org/people/nobel-prize/Baker-Hassabis-and-Jumper-win-2024-Nobel-Prize-in-Chemistry/102/web/2024/10), [physics.aps.org](https://physics.aps.org/articles/v17/149))\n",
            "\n",
            "📚 Found 8 citations\n",
            "📝 Logged to Quotient with log_id: 261ef5db-fb23-43ac-a55f-a568e01615f0\n",
            "\n",
            "🧠 What is the expected clean energy technology spending in 2025 according to the 'Top Cleantech Trends for 2025' report by S&P Global?\n",
            "➡️ $670 billion ([S&P Global](https://www.spglobal.com/content/dam/spglobal/ci/en/documents/news-research/special-reports/top-cleantech-trends-for-2025.pdf), [S&P Global](https://press.spglobal.com/2025-01-13-S-P-Global-Commodity-Insights-Predicts-a-Transformative-Shift-as-Investments-in-Cleantech-Outpace-Fossil-Fuels-for-the-First-Time))\n",
            "\n",
            "📚 Found 8 citations\n",
            "📝 Logged to Quotient with log_id: 2582065c-1c5f-444b-bb6c-2e5e05586b71\n",
            "\n",
            "🧠 According to the article '4 key trends to watch in clean energy technology in 2025', by how much did the cost of lithium-ion batteries fall in 2024?\n",
            "➡️ 40% ([weforum.org](https://www.weforum.org/stories/2025/01/4-key-trends-to-watch-in-clean-energy-technology-in-2025))\n",
            "\n",
            "📚 Found 8 citations\n",
            "📝 Logged to Quotient with log_id: 846ff8aa-3fcd-480a-87eb-d441f796c305\n",
            "\n",
            "🧠 According to the 2025 Renewable Energy Industry Outlook by Deloitte, what was the percentage increase in utility-scale solar capacity additions in the United States between January and August 2023 compared to the same period in 2022?\n",
            "➡️ 36% ([McKelveyConnect](https://mckelveyconnect.washu.edu/blog/2024/01/30/2024-renewable-energy-industry-outlook))\n",
            "\n",
            "📚 Found 8 citations\n",
            "📝 Logged to Quotient with log_id: 8cda66a9-e39a-4974-af6c-21dae7ec00ab\n"
          ]
        }
      ],
      "source": [
        "exa_results = []\n",
        "log_ids = []\n",
        "\n",
        "num_results = 10\n",
        "\n",
        "for query in queries[:num_results]:\n",
        "    # Get answer from Exa\n",
        "    response = exa.answer(\n",
        "        query,\n",
        "        text=True\n",
        "    )\n",
        "    \n",
        "    answer = response.answer\n",
        "    documents = [citation.__dict__ for citation in response.citations]\n",
        "    \n",
        "    print(f\"\\n🧠 {query}\")\n",
        "    print(f\"➡️ {answer}\")\n",
        "    print(f\"📚 Found {len(documents)} citations\")\n",
        "    \n",
        "    # Format documents for Quotient (using citation text and metadata)\n",
        "    documents = [\n",
        "        {\n",
        "            \"page_content\": document.get('text', ''),\n",
        "            \"metadata\": {\n",
        "                \"source\": document.get('url', ''),\n",
        "                \"title\": document.get('title', ''),\n",
        "                \"author\": document.get('author', ''),\n",
        "                \"published_date\": document.get('publishedDate', '')\n",
        "            }\n",
        "        }\n",
        "        for document in documents\n",
        "    ]\n",
        "    \n",
        "    # Log to Quotient\n",
        "    log_id = quotient.log(\n",
        "        user_query=query,\n",
        "        model_output=answer,\n",
        "        documents=documents,\n",
        "    )\n",
        "    \n",
        "    print(f\"📝 Logged to Quotient with log_id: {log_id}\")\n",
        "    \n",
        "    exa_results.append(response)\n",
        "    log_ids.append(log_id)\n"
      ]
    },
    {
      "cell_type": "markdown",
      "metadata": {},
      "source": [
        "### How It Works\n",
        "\n",
        "When `.log()` is called:\n",
        "\n",
        "1. **Data ingestion:** The query, model output, and all retrieved document contents are logged to Quotient.\n",
        "\n",
        "2. **Async detection pipeline:** Quotient runs:\n",
        "- **Hallucination detection**, labeling the output as hallucinated or not.\n",
        "- **Document relevance scoring**, marking which retrieved documents helped ground the output \n",
        "\n",
        "3. **Result retrieval:** You can poll or fetch detections linked to your `log_id`.\n",
        "\n",
        "4. **Monitor and troubleshoot in the Quotient app:** Access the [Quotient dashboard](app.quotientai.co) to:\n",
        "- Monitor you AI system over time\n",
        "- Review flagged hallucinated sentences.\n",
        "- See which documents were irrelevant.\n",
        "- Compare across tags or environments for deeper insights.\n",
        "\n",
        "For full implementation details, visit the Quotient [docs](https://docs.quotientai.co/)."
      ]
    },
    {
      "cell_type": "markdown",
      "metadata": {},
      "source": [
        "# Step 4: Review detections in Quotient\n",
        "\n",
        "You can now view your logs and detections in the [Quotient dashboard](app.quotientai.co), where you can also filter them by tags and environments to identify common failure patterns.\n",
        "\n",
        "![Quotient AI Dashboard](Quotient_Dashboard.png \"Quotient AI Dashboard\")\n"
      ]
    },
    {
      "cell_type": "markdown",
      "metadata": {
        "vscode": {
          "languageId": "raw"
        }
      },
      "source": [
        "## What You’ve Built\n",
        "\n",
        "A lightweight search and monitoring pipeline that:\n",
        "- Runs live AI search queries\n",
        "- Automatically checks if answers are grounded in retrieved evidence\n",
        "- Flags hallucinations and irrelevant retrievals\n",
        "\n",
        "You can scale this to monitor production traffic, benchmark retrieval and search performance, or compare different models side by side."
      ]
    },
    {
      "cell_type": "markdown",
      "metadata": {},
      "source": [
        "## How to interpret the results\n",
        "- Well-grounded systems typically show **< 5% hallucination rate**. If yours is higher, it’s often a signal that either your data ingestion, retrieval pipeline, or prompting needs improvement.\n",
        "\n",
        "- High-performing systems typically show **> 75% document relevance**. Lower scores may signal ambiguous user queries, incorrect retrieval, or noisy source data.\n"
      ]
    },
    {
      "cell_type": "markdown",
      "metadata": {},
      "source": [
        "# (Optional) Grab the detection results from Quotient\n",
        "\n",
        "Quotient's detections are now available to fetch via the Quotient SDK using the `log_id` you received earlier:"
      ]
    },
    {
      "cell_type": "code",
      "execution_count": 9,
      "metadata": {},
      "outputs": [
        {
          "name": "stderr",
          "output_type": "stream",
          "text": [
            "100%|██████████| 10/10 [00:21<00:00,  2.17s/it]"
          ]
        },
        {
          "name": "stdout",
          "output_type": "stream",
          "text": [
            "Number of results: 10\n",
            "Percentage of hallucinations: 30.00%\n",
            "Average percentage of relevant documents: 43.75%\n"
          ]
        },
        {
          "name": "stderr",
          "output_type": "stream",
          "text": [
            "\n"
          ]
        }
      ],
      "source": [
        "from tqdm import tqdm\n",
        "\n",
        "hallucination_detections = []\n",
        "doc_relevancy_detections = []\n",
        "\n",
        "for id in tqdm(log_ids):\n",
        "    try:\n",
        "        detection = quotient.poll_for_detection(log_id=id)\n",
        "        # Add the hallucination detection to the hallucination_detections list\n",
        "        hallucination_detections.append(detection.has_hallucination)\n",
        "        # Add the document relevancy detection to the doc_relevancy_detections list\n",
        "        docs = detection.log_documents\n",
        "        doc_relevancy_detections.append(sum(1 for doc in docs if doc.get('is_relevant') is True) / len(docs) if docs else None)\n",
        "    except:\n",
        "        continue\n",
        "\n",
        "print(f\"Number of results: {len(log_ids)}\")\n",
        "print(f\"Percentage of hallucinations: {sum(hallucination_detections)/len(hallucination_detections)*100:.2f}%\")\n",
        "print(f\"Average percentage of relevant documents: {sum(doc_relevancy_detections)/len(doc_relevancy_detections)*100:.2f}%\")"
      ]
    }
  ],
  "metadata": {
    "kernelspec": {
      "display_name": "tavily-quotient-eval",
      "language": "python",
      "name": "python3"
    },
    "language_info": {
      "codemirror_mode": {
        "name": "ipython",
        "version": 3
      },
      "file_extension": ".py",
      "mimetype": "text/x-python",
      "name": "python",
      "nbconvert_exporter": "python",
      "pygments_lexer": "ipython3",
      "version": "3.10.17"
    }
  },
  "nbformat": 4,
  "nbformat_minor": 2
}
