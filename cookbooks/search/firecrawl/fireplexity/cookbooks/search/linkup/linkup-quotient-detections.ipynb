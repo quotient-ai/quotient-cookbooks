{
  "cells": [
    {
      "cell_type": "markdown",
      "metadata": {
        "vscode": {
          "languageId": "raw"
        }
      },
      "source": [
        "# Building a Company Research Agent with Linkup & Quotient\n",
        "\n",
        "<a target=\"_blank\" href=\"https://colab.research.google.com/github/quotient-ai/quotient-cookbooks/blob/main/cookbooks/search/linkup/linkup-quotient-detections.ipynb\">\n",
        " <img src=\"https://colab.research.google.com/assets/colab-badge.svg\" alt=\"Open In Colab\"/>\n",
        "</a>\n",
        "\n",
        "This cookbook demonstrates how to build a company description generator using [Linkup](https://docs.linkup.so/) while monitoring result accuracy with [Quotient AI](https://www.quotientai.co/).\n",
        "\n",
        "We'll cover:\n",
        "- Using Linkup's API to gather comprehensive company details\n",
        "- Generating company descriptions with validation\n",
        "- Monitoring result quality and detecting hallucinations with Quotient\n",
        "- Understanding and improving the accuracy of company information retrieval\n"
      ]
    },
    {
      "cell_type": "code",
      "execution_count": 1,
      "metadata": {},
      "outputs": [],
      "source": [
        "# install dependencies\n",
        "! pip install -qU quotientai linkup-sdk tqdm"
      ]
    },
    {
      "cell_type": "markdown",
      "metadata": {
        "vscode": {
          "languageId": "raw"
        }
      },
      "source": [
        "## Step 0: Grab your API keys\n",
        "\n",
        "We'll use API keys from:\n",
        " - [Linkup](https://docs.linkup.so/) — get your API key from the [Linkup app](https://app.linkup.so/sign-up)\n",
        " - [Quotient AI](https://www.quotientai.co) — get your API key from the [Quotient AI app](https://app.quotientai.co)\n",
        " \n",
        "Both Linkup and Quotient offer generous free tiers to get started."
      ]
    },
    {
      "cell_type": "code",
      "execution_count": 9,
      "metadata": {},
      "outputs": [],
      "source": [
        "import os\n",
        "# Set API keys:\n",
        "os.environ['LINKUP_API_KEY'] = \"your-linkup-api-key\"\n",
        "os.environ['QUOTIENT_API_KEY'] = \"your-quotient-api-key\"\n"
      ]
    },
    {
      "cell_type": "markdown",
      "metadata": {
        "vscode": {
          "languageId": "raw"
        }
      },
      "source": [
        "## Step 1: Set up Linkup Search and Quotient Monitoring\n",
        "\n",
        "We'll configure Linkup's API to perform comprehensive company research. Our search queries will focus on gathering key information about each company, including:\n",
        "- Main products and services\n",
        "- Recent developments and achievements\n",
        "- Company size and market position\n",
        "- Key technologies and innovations\n",
        "- Notable partnerships and milestones\n"
      ]
    },
    {
      "cell_type": "code",
      "execution_count": 10,
      "metadata": {},
      "outputs": [],
      "source": [
        "from linkup import LinkupClient\n",
        "from typing import Dict, Any\n",
        "\n",
        "# Initialize the client\n",
        "client = LinkupClient(api_key=os.getenv('LINKUP_API_KEY'))\n",
        "\n",
        "def generate_query(company_name: str, country: str) -> str:\n",
        "    query = (\n",
        "            f\"Provide a comprehensive overview of {company_name} in {country}. \"\n",
        "            \"Focus on: 1) Their main products and services, \"\n",
        "            \"2) Recent major developments and achievements, \"\n",
        "            \"3) Company size and market position, \"\n",
        "            \"4) Key technologies or innovations they're known for.\"\n",
        "        )\n",
        "    return query\n",
        "\n",
        "def get_company_info(company_name: str, country: str) -> Dict[str, Any]:\n",
        "    \"\"\"\n",
        "    Get detailed information about a company using Linkup's sourcedAnswer.\n",
        "\n",
        "    Args:\n",
        "        company_name: Name of the company\n",
        "        country: Country where the company operates\n",
        "\n",
        "    Returns:\n",
        "        Dictionary containing the answer and source documents\n",
        "    \"\"\"\n",
        "    try:\n",
        "        # Clean input\n",
        "        company_name = company_name.strip()\n",
        "        country = country.strip()\n",
        "        \n",
        "        # Generate search query\n",
        "        query = generate_query(company_name, country)\n",
        "\n",
        "        # Call Linkup API\n",
        "        response = client.search(\n",
        "            query=query,\n",
        "            depth=\"deep\",  # Use deep for more thorough results\n",
        "            output_type=\"sourcedAnswer\"\n",
        "        )\n",
        "        \n",
        "        # Access attributes directly from the LinkupSourcedAnswer object\n",
        "        return {\n",
        "            'answer': response.answer,\n",
        "            'sources': response.sources\n",
        "        }\n",
        "        \n",
        "    except Exception as e:\n",
        "        return {\n",
        "            'error': str(e),\n",
        "            'company_name': company_name,\n",
        "            'country': country\n",
        "        }\n"
      ]
    },
    {
      "cell_type": "markdown",
      "metadata": {
        "vscode": {
          "languageId": "raw"
        }
      },
      "source": [
        "Quotient is an intelligent observability platform designed for retrieval-augmented and search-augmented AI systems.\n",
        "\n",
        "Quotient performs automated detections on two key fronts each time you send it a log:\n",
        "\n",
        "- **Hallucination:** Identifies statements in the model output that are unsupported by the retrieved documents or that contradict them. This flagging is done at the sentence level and returns a boolean indicator if any part of the answer contains a hallucination.\n",
        "\n",
        "- **Document Relevance:** Evaluates each retrieved document to determine whether it meaningfully contributed to grounding the answer. Quotient returns relevance labels for all documents, helping gauge retrieval and search quality.\n",
        "  \n",
        "These capabilities are enabled automatically when `hallucination_detection=True` is set during logger initialization.\n",
        "\n",
        "Below, we'll set up the Quotient logger, send each AI-search result for automatic evaluation, and retrieve structured logs and detections:\n"
      ]
    },
    {
      "cell_type": "code",
      "execution_count": 11,
      "metadata": {},
      "outputs": [],
      "source": [
        "from quotientai import QuotientAI, DetectionType\n",
        "\n",
        "# Initialize the Quotient SDK\n",
        "quotient = QuotientAI()\n",
        "\n",
        "logger = quotient.logger.init(\n",
        "    # Name your application or project\n",
        "    app_name=\"linkup-company-research\",\n",
        "    # Set the environment (e.g., \"dev\", \"prod\", \"staging\")\n",
        "    environment=\"test\",\n",
        "    # Set the sample rate for logging (0-1.0)\n",
        "    sample_rate=1.0,\n",
        "    # this will automatically run hallucination detection on 100% of your model outputs in relation to the documents you provide\n",
        "    detections=[DetectionType.HALLUCINATION, DetectionType.DOCUMENT_RELEVANCY],\n",
        "    detection_sample_rate=1.0,\n",
        ")\n"
      ]
    },
    {
      "cell_type": "markdown",
      "metadata": {
        "vscode": {
          "languageId": "raw"
        }
      },
      "source": [
        "## Step 2: Generate Structured Company Descriptions\n",
        "\n",
        "\n",
        "We'll test our company description generator with a set of well-known technology companies. For each company, we'll provide:\n",
        "- Company name\n",
        "- Country of operation"
      ]
    },
    {
      "cell_type": "code",
      "execution_count": 12,
      "metadata": {},
      "outputs": [],
      "source": [
        "# Example companies to look up\n",
        "companies = [\n",
        "    (\"Anthropic\", \"United States\"),\n",
        "    (\"Stripe\", \"United States\"),\n",
        "    (\"OpenAI\", \"United States\"),\n",
        "    (\"Microsoft\", \"United States\"),\n",
        "    (\"Google\", \"United States\")\n",
        "]\n"
      ]
    },
    {
      "cell_type": "markdown",
      "metadata": {
        "vscode": {
          "languageId": "raw"
        }
      },
      "source": [
        "Let's generate detailed, structured descriptions for each company using Linkup's API. For each company, we will:\n",
        "1. Generate a comprehensive search query\n",
        "2. Use Linkup's structured output feature to extract company information\n",
        "3. Format the results according to our schema\n",
        "4. Log the results in Quotient for quality monitoring\n",
        "\n",
        "The structured output ensures consistent formatting and makes it easy to use the company information in downstream applications.\n"
      ]
    },
    {
      "cell_type": "code",
      "execution_count": 13,
      "metadata": {},
      "outputs": [
        {
          "name": "stdout",
          "output_type": "stream",
          "text": [
            "\n",
            "Looking up: Anthropic in United States\n",
            "\n",
            "📊 Company Information:\n",
            "1) Main products and services: Anthropic offers AI systems focused on safety and reliability, including Claude Opus 4, which delivers superior reasoning, human-quality responses, and brand safety. Their AI models excel in customer support, coding, and AI agent scenarios, enabling true collaboration between AI agents and users. They provide integration of AI capabilities into applications for production-grade solutions.\n",
            "\n",
            "2) Recent major developments and achievements: Claude Opus 4 is noted for outperforming other models in honesty, jailbreak resistance, and brand safety, marking a significant advancement in AI safety and reliability.\n",
            "\n",
            "3) Company size and market position: Anthropic is a research and AI safety company with a diverse team including members from NASA, startups, and the armed forces, positioning itself as a leader in AI safety and interpretable AI systems.\n",
            "\n",
            "4) Key technologies or innovations: Their key innovation is the development of Claude, an AI model known for its superior reasoning, safety features, and collaborative conversational style, emphasizing AI safety and reliability.\n",
            "📝 Logged to Quotient with log_id: bad9061e-3acd-4b88-9041-a6d5d1097ada\n",
            "\n",
            "Looking up: Stripe in United States\n",
            "\n",
            "📊 Company Information:\n",
            "1) Main products and services:\n",
            "- Stripe offers a suite of APIs for online payment processing and commerce solutions for internet businesses of all sizes.\n",
            "- Key products include payment acceptance online and in-person, subscription billing, revenue operations management, and embedded financial services.\n",
            "- Recent product updates include managing multiple payment providers within Stripe, turnkey consumer issuing programs, expanded money management capabilities, and AI-powered payments.\n",
            "- Stripe Billing is a major revenue driver, managing 200 million active subscriptions and used by over 300,000 companies.\n",
            "- The platform supports global payments, fraud prevention (Radar), and developer tools to automate financial operations.\n",
            "\n",
            "2) Recent major developments and achievements:\n",
            "- Launched the world's first AI foundation model for payments, improving fraud detection rates significantly.\n",
            "- Expanded money movement capabilities including stablecoin-powered accounts.\n",
            "- Acquired Bridge, a stablecoin infrastructure company, for $1.1 billion in 2025.\n",
            "- Named leader in recurring billing solutions by Forrester Wave in Q1 2025.\n",
            "- Processed $1.4 trillion in payment volume in 2024, equivalent to 1.3% of global GDP.\n",
            "- Profitable since 2024 and reinvesting heavily in R&D.\n",
            "- Accepted for a Merchant Acquirer Limited Purpose Bank charter in Georgia, US.\n",
            "- Expanded partnerships with major companies like PepsiCo and OpenAI.\n",
            "- Recognized as the most innovative company in the world for its carbon removal initiative Stripe Climate.\n",
            "\n",
            "3) Company size and market position:\n",
            "- Largest privately-owned fintech company in the US with a valuation near $91 billion as of early 2025.\n",
            "- Processes over $1.4 trillion in payments annually.\n",
            "- Serves millions of companies globally, from startups to large enterprises.\n",
            "- Employs a large team with specialized groups for revenue foundations, financial systems, and core infrastructure.\n",
            "- Holds a significant market share in online payment processing technologies (21% in 2024).\n",
            "- Has a strong developer community and extensive partner ecosystem.\n",
            "\n",
            "4) Key technologies and innovations:\n",
            "- Robust, flexible APIs for seamless payment integration.\n",
            "- AI-powered fraud detection and payment authorization improvements.\n",
            "- Patented technologies in payment gateway integration and real-time transaction processing.\n",
            "- Continuous integration systems for rapid development and deployment.\n",
            "- Innovations in subscription billing automation and revenue operations.\n",
            "- Use of stablecoins and blockchain technology for new money movement experiences.\n",
            "- Advanced KYC and compliance systems leveraging AI.\n",
            "- AI foundation model for payments capturing subtle signals for fraud prevention.\n",
            "- Commitment to data privacy and compliance with international data transfer frameworks.\n",
            "\n",
            "In summary, Stripe is a leading US fintech company providing comprehensive payment and financial infrastructure solutions, pioneering AI and blockchain innovations, with strong market presence and continuous growth through product expansion and strategic acquisitions.\n",
            "📝 Logged to Quotient with log_id: c119798c-e2ca-466f-9aff-b32c101c44bc\n",
            "\n",
            "Looking up: OpenAI in United States\n",
            "\n",
            "📊 Company Information:\n",
            "OpenAI Overview in the United States:\n",
            "\n",
            "1) Main Products and Services:\n",
            "- ChatGPT: AI conversational agent widely used for various applications.\n",
            "- DALL-E: Text-to-image generation models.\n",
            "- Codex: AI support for coding, testing, and documentation.\n",
            "- Whisper: Speech recognition technology.\n",
            "- OpenAI offers AI tools for finance, sales & marketing, engineering, healthcare, financial services, and startups.\n",
            "- OpenAI for Government: AI tools tailored for public sector use.\n",
            "- Operator: AI assistant for online tasks like ordering groceries and ticket purchases.\n",
            "\n",
            "2) Recent Major Developments and Achievements:\n",
            "- Raised $40 billion in April 2025 at a $300 billion valuation, the largest private tech deal on record.\n",
            "- Acquired AI hardware startup io, founded by former Apple designer Jony Ive, to develop AI-powered hardware products.\n",
            "- Secured a $200 million contract with the U.S. Department of Defense for AI tools supporting national security.\n",
            "- Launched advanced AI models including the o1 reasoning model and the Sora text-to-video model.\n",
            "- Released ChatGPT Pro subscription with enhanced features.\n",
            "- Partnered with defense-tech company Anduril for drone defense technologies.\n",
            "- Preparing to launch GPT-5 and evolving ChatGPT into an AI \"Super Assistant.\"\n",
            "- Expanded AI capabilities with acquisitions like Windsurf for developer tools.\n",
            "- Entered a cloud computing deal with Google to diversify compute resources.\n",
            "- OpenAI's annual recurring revenue reached $10 billion fueled by ChatGPT growth.\n",
            "\n",
            "3) Company Size and Market Position:\n",
            "- Valued at approximately $300 billion as of 2025.\n",
            "- Leading AI research and deployment company with significant market influence.\n",
            "- Strong partnerships with Microsoft, Google, and other tech giants.\n",
            "- Positioned as a dominant player in generative AI and large language models.\n",
            "- Employs a complex corporate structure with nonprofit and for-profit subsidiaries.\n",
            "- Competes with major AI companies like Google DeepMind, Anthropic, and Meta.\n",
            "\n",
            "4) Key Technologies and Innovations:\n",
            "- GPT family of large language models, including GPT-4 and upcoming GPT-5.\n",
            "- Advanced reasoning and chain-of-thought prompting techniques.\n",
            "- Multimodal AI models for text, image, and video generation.\n",
            "- AI-powered coding assistant (Codex) and voice agent development tools.\n",
            "- AI safety and alignment research to ensure responsible AI deployment.\n",
            "- Development of AI hardware in collaboration with design experts.\n",
            "- Integration of AI into enterprise, government, and consumer applications.\n",
            "- Innovations in AI agent technology enabling autonomous task execution.\n",
            "\n",
            "In summary, OpenAI is a leading AI research and deployment company in the U.S., known for its groundbreaking AI models and products like ChatGPT and DALL-E. It has achieved significant funding milestones, government contracts, and strategic acquisitions to expand its technology and market reach. OpenAI continues to innovate in AI reasoning, multimodal models, and AI safety, maintaining a strong market position amid growing competition.\n",
            "📝 Logged to Quotient with log_id: 5a97244f-58f9-46cc-b057-00728e71066d\n",
            "\n",
            "Looking up: Microsoft in United States\n",
            "\n",
            "📊 Company Information:\n",
            "1) Main products and services:\n",
            "- Software: Windows OS, Microsoft Office suite, Dynamics business solutions\n",
            "- Cloud computing: Azure cloud services, hybrid and private cloud products\n",
            "- Devices: Surface tablets, laptops, Xbox gaming consoles and accessories\n",
            "- Online services: LinkedIn, Skype, Microsoft 365, Xbox Live\n",
            "- Enterprise services: Premier support, consulting, commercial cloud offerings\n",
            "\n",
            "2) Recent major developments and achievements:\n",
            "- Acquisition of Activision Blizzard\n",
            "- Partnership with OpenAI\n",
            "- Continued growth in cloud computing and AI technologies\n",
            "- Expansion of research labs globally\n",
            "- Significant R&D investment (~$20.7 billion in FY2021)\n",
            "\n",
            "3) Company size and market position:\n",
            "- Founded in 1975, headquartered in Redmond, Washington\n",
            "- One of the largest and most profitable tech companies globally\n",
            "- Operates in three main segments: Productivity and Business Processes, Intelligent Cloud, More Personal Computing\n",
            "- Strong market presence in software, cloud, gaming, and enterprise services\n",
            "- AAA credit rating and substantial assets (~$41 billion)\n",
            "\n",
            "4) Key technologies or innovations:\n",
            "- Windows operating system and MS-DOS (historically foundational)\n",
            "- Office productivity software and cloud-based Office 365\n",
            "- Azure cloud platform and hybrid cloud solutions\n",
            "- AI and machine learning advancements through Microsoft Research\n",
            "- Xbox gaming ecosystem and Surface hardware line\n",
            "\n",
            "This overview is based on the latest publicly available company profiles and financial data as of mid-2025.\n",
            "📝 Logged to Quotient with log_id: 4b337c65-1fb0-4672-879d-729a79b4a080\n",
            "\n",
            "Looking up: Google in United States\n",
            "\n",
            "📊 Company Information:\n",
            "1) Main products and services:\n",
            "- Google offers a wide range of products including Google Search, Gmail (a secure messaging service with AI-powered spam filtering), Google Maps, Google Play Store, Google Workspace, Android OS, Google Cloud services, YouTube, and AI tools like Gemini.\n",
            "- Gmail protects over a billion users daily, blocking 99.9% of spam and malware.\n",
            "- Google provides tools for businesses to manage their presence on Google Search and Maps, including free business listings.\n",
            "- Google Cloud offers AI-optimized hardware, cloud infrastructure, and AI development platforms.\n",
            "\n",
            "2) Recent major developments and achievements:\n",
            "- At Google I/O 2025, Google announced major AI advancements including updates to their Gemini AI models (Gemini 2.5 Flash), AI Mode in Google Search, and new AI-powered tools for developers.\n",
            "- Introduction of Project Astra, a universal AI assistant prototype.\n",
            "- Partnerships with eyewear brands Gentle Monster and Warby Parker for Android XR smart glasses.\n",
            "- Launch of Google AI Ultra subscription plan for premium AI access.\n",
            "- Advances in AI for medical fields with models like MedGemma achieving state-of-the-art performance.\n",
            "- Google Cloud Next 2025 showcased innovations like Ironwood TPU (7th gen), distributed cloud with Gemini on NVIDIA Blackwell systems, and multi-agent AI ecosystems.\n",
            "- AI Mode in Google Search now available to all US users, enhancing search with chatbot-style interactions.\n",
            "\n",
            "3) Company size and market position:\n",
            "- Google is a dominant player in internet search, online advertising, cloud computing, AI research, and mobile operating systems.\n",
            "- Gmail serves over a billion users daily.\n",
            "- Over 7 million developers build with Google's Gemini AI models.\n",
            "- Google Cloud is a leading cloud provider with extensive AI infrastructure and partnerships.\n",
            "\n",
            "4) Key technologies or innovations:\n",
            "- Gemini AI models, including Gemini 2.5 Flash, known for advanced reasoning, multimodality, and coding capabilities.\n",
            "- AI Mode in Google Search, integrating conversational AI for enhanced search experiences.\n",
            "- Project Astra aiming to create a universal AI assistant with real-time conversation and memory.\n",
            "- AI-powered tools for developers such as Gemini Code Assist and AI-enhanced Android Studio features.\n",
            "- Advanced AI research in protein structure prediction, medical diagnostics, and wildfire detection (FireSat satellite constellation).\n",
            "- Hardware innovations like Ironwood TPU for AI model acceleration.\n",
            "- Android XR platform for mixed reality and smart glasses development.\n",
            "\n",
            "In summary, Google in the US leads with a broad portfolio of internet, cloud, and AI products, recently emphasizing AI integration across its services and developer tools, maintaining a strong market position with continuous innovation in AI technologies and infrastructure.\n",
            "📝 Logged to Quotient with log_id: 011a7610-6ee7-4dd2-9b98-5b0aab900166\n"
          ]
        }
      ],
      "source": [
        "log_ids = []\n",
        "\n",
        "for company_name, country in companies:\n",
        "    print(f\"\\nLooking up: {company_name} in {country}\")\n",
        "    result = get_company_info(company_name, country)\n",
        "    \n",
        "    if 'error' in result:\n",
        "        print(f\"❌ Error: {result['error']}\")\n",
        "        continue\n",
        "        \n",
        "    print(f\"\\n📊 Company Information:\\n{result['answer']}\")\n",
        "    \n",
        "    # Log to Quotient for quality monitoring\n",
        "    log_id = quotient.log(\n",
        "        user_query=f\"Get information about {company_name} in {country}\",\n",
        "        model_output=result['answer'],\n",
        "        documents=[str(doc) for doc in result['sources']]\n",
        "    )\n",
        "    \n",
        "    print(f\"📝 Logged to Quotient with log_id: {log_id}\")\n",
        "    log_ids.append(log_id)\n"
      ]
    },
    {
      "cell_type": "markdown",
      "metadata": {
        "vscode": {
          "languageId": "raw"
        }
      },
      "source": [
        "### How It Works\n",
        "\n",
        "When `.log()` is called:\n",
        "\n",
        "1. **Data ingestion:** The query, model output, and all retrieved document contents are logged to Quotient.\n",
        "\n",
        "2. **Async detection pipeline:** Quotient runs:\n",
        "- **Hallucination detection**, labeling the output as hallucinated or not.\n",
        "- **Document relevance scoring**, marking which retrieved documents helped ground the output \n",
        "\n",
        "3. **Result retrieval:** You can poll or fetch detections linked to your `log_id`.\n",
        "\n",
        "4. **Monitor and troubleshoot in the Quotient app:** Access the [Quotient dashboard](app.quotientai.co) to:\n",
        "- Monitor your AI system over time\n",
        "- Review flagged hallucinated sentences\n",
        "- See which documents were irrelevant\n",
        "- Compare across tags or environments for deeper insights\n",
        "\n",
        "For full implementation details, visit the Quotient [docs](https://docs.quotientai.co/).\n"
      ]
    },
    {
      "cell_type": "markdown",
      "metadata": {
        "vscode": {
          "languageId": "raw"
        }
      },
      "source": [
        "# Step 4: Review detections in Quotient\n",
        "\n",
        "You can now view your logs and detections in the [Quotient dashboard](app.quotientai.co), where you can also filter them by tags and environments to identify common failure patterns.\n",
        "\n",
        "![Quotient AI Dashboard](Quotient_Dashboard.png \"Quotient AI Dashboard\")"
      ]
    },
    {
      "cell_type": "markdown",
      "metadata": {
        "vscode": {
          "languageId": "raw"
        }
      },
      "source": [
        "## What You've Built\n",
        "\n",
        "A production-ready company description generator that:\n",
        "- Takes company names and countries as input\n",
        "- Returns comprehensive, well-researched company information\n",
        "- Provides source attribution for fact verification\n",
        "- Monitors accuracy through Quotient's hallucination detection\n",
        "- Verifies information quality with document relevance scoring\n",
        "\n",
        "You can scale this to monitor production traffic, benchmark retrieval and search performance, or compare different models side by side.\n"
      ]
    },
    {
      "cell_type": "markdown",
      "metadata": {
        "vscode": {
          "languageId": "raw"
        }
      },
      "source": [
        "## Understanding Result Quality\n",
        "\n",
        "When evaluating the company descriptions, pay attention to these metrics:\n",
        "\n",
        "- **Hallucination Rate**: Should be **< 5%**\n",
        "  - Higher rates might indicate:\n",
        "    - Outdated or conflicting company information online\n",
        "    - Need for more specific company identifiers in queries\n",
        "    - Issues with source document quality\n",
        "\n",
        "- **Document Relevance**: Should be **> 75%**\n",
        "  - Lower scores might suggest:\n",
        "    - Company name ambiguity (e.g., common names or multiple companies)\n",
        "    - Need for additional company identifiers (e.g., industry, location)\n",
        "    - Source documents discussing different companies or topics\n"
      ]
    },
    {
      "cell_type": "markdown",
      "metadata": {
        "vscode": {
          "languageId": "raw"
        }
      },
      "source": [
        "# (Optional) Analyze Quality Metrics\n",
        "\n",
        "Let's fetch the quality metrics from Quotient to understand:\n",
        "- How accurate our company descriptions are\n",
        "- Which sources were most relevant\n",
        "- Where we might need additional data or refinement\n",
        "\n",
        "Quotient's detections are available via the SDK using the `log_id` from each company lookup:\n"
      ]
    },
    {
      "cell_type": "code",
      "execution_count": 8,
      "metadata": {},
      "outputs": [
        {
          "name": "stderr",
          "output_type": "stream",
          "text": [
            "100%|██████████| 5/5 [08:24<00:00, 100.91s/it]"
          ]
        },
        {
          "name": "stdout",
          "output_type": "stream",
          "text": [
            "Number of results: 5\n",
            "Percentage of hallucinations: 80.00%\n",
            "Average percentage of relevant documents: 39.04%\n"
          ]
        },
        {
          "name": "stderr",
          "output_type": "stream",
          "text": [
            "\n"
          ]
        }
      ],
      "source": [
        "hallucination_detections = []\n",
        "doc_relevancy_detections = []\n",
        "\n",
        "from tqdm import tqdm\n",
        "\n",
        "for id in tqdm(log_ids):\n",
        "    try:\n",
        "        detection = quotient.poll_for_detection(log_id=id)\n",
        "        # Add the hallucination detection to the hallucination_detections list\n",
        "        hallucination_detections.append(detection.has_hallucination)\n",
        "        # Add the document relevancy detection to the doc_relevancy_detections list\n",
        "        docs = detection.log_documents\n",
        "        doc_relevancy_detections.append(sum(1 for doc in docs if doc.get('is_relevant') is True) / len(docs) if docs else None)\n",
        "    except Exception as e:\n",
        "        print(f\"Error fetching detection for log_id {id}: {e}\")\n",
        "\n",
        "print(f\"Number of results: {len(log_ids)}\")\n",
        "print(f\"Percentage of hallucinations: {sum(hallucination_detections)/len(hallucination_detections)*100:.2f}%\")\n",
        "print(f\"Average percentage of relevant documents: {sum(doc_relevancy_detections)/len(doc_relevancy_detections)*100:.2f}%\")\n"
      ]
    }
  ],
  "metadata": {
    "kernelspec": {
      "display_name": "tavily-quotient-eval",
      "language": "python",
      "name": "python3"
    },
    "language_info": {
      "codemirror_mode": {
        "name": "ipython",
        "version": 3
      },
      "file_extension": ".py",
      "mimetype": "text/x-python",
      "name": "python",
      "nbconvert_exporter": "python",
      "pygments_lexer": "ipython3",
      "version": "3.10.17"
    }
  },
  "nbformat": 4,
  "nbformat_minor": 2
}
