{
 "cells": [
  {
   "cell_type": "markdown",
   "metadata": {},
   "source": [
    "# Evaluate AI Search Quality with Tavily & Quotient\n",
    "\n",
    "<a target=\"_blank\" href=\"https://colab.research.google.com/github/quotient-ai/quotient-alpha/blob/main/cookbooks/search/tavily/tavily_quotient_detections.ipynb\">\n",
    " <img src=\"https://colab.research.google.com/assets/colab-badge.svg\" alt=\"Open In Colab\"/>\n",
    "</a>\n",
    "\n",
    "This cookbook walks through how we can monitor AI search results from [Tavily](https://www.tavily.com/) for hallucinations or retrieval issues using [Quotient AI](https://www.quotientai.co/).\n",
    "\n",
    "We’ll cover:\n",
    "- Performing AI-powered search using Tavily\n",
    "- Logging search results in Quotient\n",
    "- Automatically detecting hallucinations and irrelevant results with Quotient\n",
    "- Understanding common failure cases and how to fix them"
   ]
  },
  {
   "cell_type": "code",
   "execution_count": 1,
   "metadata": {},
   "outputs": [
    {
     "name": "stdout",
     "output_type": "stream",
     "text": [
      "\n",
      "\u001b[1m[\u001b[0m\u001b[34;49mnotice\u001b[0m\u001b[1;39;49m]\u001b[0m\u001b[39;49m A new release of pip is available: \u001b[0m\u001b[31;49m24.3.1\u001b[0m\u001b[39;49m -> \u001b[0m\u001b[32;49m25.1.1\u001b[0m\n",
      "\u001b[1m[\u001b[0m\u001b[34;49mnotice\u001b[0m\u001b[1;39;49m]\u001b[0m\u001b[39;49m To update, run: \u001b[0m\u001b[32;49mpip install --upgrade pip\u001b[0m\n"
     ]
    }
   ],
   "source": [
    "# install dependencies\n",
    "! pip install -qU quotientai tavily-python tqdm"
   ]
  },
  {
   "cell_type": "markdown",
   "metadata": {},
   "source": [
    "## Step 0: Grab your API keys\n",
    "\n",
    "We’ll use API keys from:\n",
    " - [Tavily](https://www.tavily.com/) — get your API key from the [Tavily app](https://app.tavily.com)\n",
    " - [Quotient AI](https://www.quotientai.co) — get your API key from the [Quotient AI app](https://app.quotientai.co)\n",
    " \n",
    "Both Tavily and Quotient offer generous free tiers to get started; you can check out their pricing  [here](https://www.tavily.com/#pricing) and [here](https://www.quotientai.co/pricing).\n"
   ]
  },
  {
   "cell_type": "code",
   "execution_count": 2,
   "metadata": {},
   "outputs": [],
   "source": [
    "import os\n",
    "# Set API keys:\n",
    "os.environ['TAVILY_API_KEY'] =\"your_tavily_api_key_here\"\n",
    "os.environ['QUOTIENT_API_KEY'] =\"your_quotient_api_key_here\""
   ]
  },
  {
   "cell_type": "markdown",
   "metadata": {},
   "source": [
    "## Step 1: Connect to Tavily Search and Quotient monitoring\n",
    "\n",
    "We’ll use Tavily’s API to retrieve content from the web and AI-generated answers for each query."
   ]
  },
  {
   "cell_type": "code",
   "execution_count": 3,
   "metadata": {},
   "outputs": [],
   "source": [
    "from tavily import TavilyClient\n",
    "\n",
    "tavily_client = TavilyClient(api_key=os.getenv(\"TAVILY_API_KEY\"))"
   ]
  },
  {
   "cell_type": "markdown",
   "metadata": {},
   "source": [
    "Quotient is an intelligent observability platform designed for retrieval-augmented and search-augmented AI systems.\n",
    "\n",
    "Quotient performs automated detections on two key fronts each time you send it a log:\n",
    "\n",
    "- **Hallucination:** Identifies statements in the model output that are unsupported by the retrieved documents or that contradict them. This flagging is done at the sentence level and returns a boolean indicator if any part of the answer contains a hallucination.\n",
    "\n",
    "- **Document Relevance:** Evaluates each retrieved document to determine whether it meaningfully contributed to grounding the answer. Quotient returns relevance labels for all documents, helping gauge retrieval and search quality.\n",
    "  \n",
    "These capabilities are enabled automatically when `hallucination_detection=True` is set during logger initialization.\n",
    "\n",
    "Below, we'll set up the Quotient logger, send each AI-search result for automatic evaluation, and retrieve structured logs and detections:"
   ]
  },
  {
   "cell_type": "code",
   "execution_count": 4,
   "metadata": {},
   "outputs": [
    {
     "data": {
      "text/plain": [
       "<quotientai.client.QuotientLogger at 0x114401750>"
      ]
     },
     "execution_count": 4,
     "metadata": {},
     "output_type": "execute_result"
    }
   ],
   "source": [
    "from quotientai import QuotientAI, DetectionType\n",
    "\n",
    "# Initialize the Quotient SDK\n",
    "\n",
    "quotient = QuotientAI()\n",
    "\n",
    "quotient.logger.init(\n",
    "    # Name your application or project\n",
    "    app_name=\"search-eval\",\n",
    "    # Set the environment (e.g., \"dev\", \"prod\", \"staging\")\n",
    "    environment=\"test\",\n",
    "    # Set the sample rate for logging (0-1.0)\n",
    "    sample_rate=1.0,\n",
    "    # this will automatically run hallucination detection on 100% of your model outputs in relation to the documents you provide\n",
    "    detections=[DetectionType.HALLUCINATION, DetectionType.DOCUMENT_RELEVANCY],\n",
    "    detection_sample_rate=1.0,\n",
    ")"
   ]
  },
  {
   "cell_type": "markdown",
   "metadata": {},
   "source": [
    "## Step 2: Get a set of example queries\n",
    "\n",
    "We’ll evaluate on a set of realistic user queries queries from the open-source [Tavily Web Eval Generator](https://github.com/Eyalbenba/tavily-web-eval-generator), covering a diverse set of topics. From each sample, we will use the `question` attribute to run a fresh search and compare the generated answer against retrieved documents."
   ]
  },
  {
   "cell_type": "code",
   "execution_count": 5,
   "metadata": {},
   "outputs": [],
   "source": [
    "import json\n",
    "\n",
    "# Load queries from file\n",
    "with open(\"search_queries.jsonl\") as f:\n",
    "    queries = [json.loads(line)[\"question\"] for line in f]"
   ]
  },
  {
   "cell_type": "markdown",
   "metadata": {},
   "source": [
    "Alternatively, you can connect Quotient to a live development or production environment and run detections automatically as data comes in — no manual setup required beyond the few-lines-of-code initial integration."
   ]
  },
  {
   "cell_type": "markdown",
   "metadata": {},
   "source": [
    "## Step 3: Query Tavily for each example query and log your results in Quotient\n",
    "\n",
    "Lets run fresh searches for a subset of examples."
   ]
  },
  {
   "cell_type": "code",
   "execution_count": null,
   "metadata": {},
   "outputs": [
    {
     "name": "stdout",
     "output_type": "stream",
     "text": [
      "\n",
      "🧠 What is the top emerging technology in 2025 according to the article '25 New Technology Trends for 2025'?\n",
      "➡️ According to the article \"25 New Technology Trends for 2025,\" Generative AI is identified as the top emerging technology for 2025. This artificial intelligence technology that can create new content, including text, images, code, and other media, consistently appears at the number one position across multiple comprehensive technology trend analyses. Generative AI's prominence stems from its transformative potential across industries, enabling automated content creation, enhanced productivity, and innovative applications that are reshaping how businesses and individuals approach creative and analytical tasks.\n",
      "📝 Logged to Quotient with log_id: a95532fc-afa2-4b31-9f22-166c53b5bd19\n",
      "\n",
      "🧠 What is the name of the 105-qubit quantum processor unveiled by Alphabet?\n",
      "➡️ The name of the 105-qubit quantum processor unveiled by Alphabet is Willow. This superconducting quantum processor was unveiled by Google Quantum AI on December 9, 2024, and represents a significant advancement in quantum computing technology. Willow features 105 superconducting transmon qubits with each qubit having an average connectivity of 3.47, typically connecting to four neighboring qubits, and achieves a T1 coherence time of up to 100 microseconds. The processor was manufactured at Google's own Santa Barbara fabrication facility and has achieved groundbreaking milestones in quantum error correction, becoming the first quantum processor to demonstrate an exponential reduction in error rates as the number of qubits is increased.\n",
      "📝 Logged to Quotient with log_id: fb376ef7-b1c0-4405-8545-9339028284ba\n",
      "\n",
      "🧠 What is the projected market size of the global 5G market by 2026 according to the article 'Top 25 New Technology Trends in 2025' on GeeksforGeeks?\n",
      "➡️ The retrieved data does not contain information from the specific GeeksforGeeks article \"Top 25 New Technology Trends in 2025\" that you referenced in your query. However, multiple market research sources provide varying projections for the global 5G market size by 2026. The overall 5G market is projected to reach approximately $667.9 billion by 2026, while the 5G devices segment specifically is expected to reach $26.1 billion by 2026, growing from $2.67 billion in 2019. Additionally, the 5G chipset market is projected to reach $22.9 billion by 2026, and another analysis suggests the 5G technology market could reach $228.6 billion by 2026. These projections reflect the rapid growth expected in the 5G ecosystem, driven by increased network capacity demands, emergence of new applications like augmented reality and autonomous vehicles, and the proliferation of IoT devices.\n",
      "📝 Logged to Quotient with log_id: d2d6d9a9-f561-4b6e-9342-4d766c141c18\n",
      "\n",
      "🧠 According to the 2025 AI Index from Stanford University’s Institute for Human-Centered Artificial Intelligence, how many notable AI models came from the United States in 2024?\n",
      "➡️ According to the 2025 AI Index from Stanford University's Institute for Human-Centered Artificial Intelligence, the United States produced 40 notable AI models in 2024. This significantly outpaced other countries, with China producing 15 notable AI models and Europe's combined total reaching only three models. The United States maintained its position as the leading source of notable AI models, continuing a trend where more notable machine learning models have originated from the U.S. than any other country over the past decade.\n",
      "📝 Logged to Quotient with log_id: 4bd4f7b5-5e68-43e2-b304-543ee4ad4dbf\n",
      "\n",
      "🧠 What is the title of the article discussing the impact of AI on business, industry, and everyday life by 2025?\n",
      "➡️ The title of the article discussing the impact of AI on business, industry, and everyday life by 2025 is \"AI in 2025: How Artificial Intelligence Will Shape Business, Industry, and Everyday Life\" published by EE Times. This article explores how AI will redefine business operations, drive industry innovation, and transform individual experiences with technology through its integration with IoT, robotics, and cloud computing systems, while addressing the challenges engineers and system designers face in creating scalable, ethical, and secure AI frameworks for the future.\n",
      "📝 Logged to Quotient with log_id: 6bd43433-0782-4ec3-b346-b51a670ca950\n",
      "\n",
      "🧠 When did the Morgan Stanley Technology, Media & Telecom Conference take place in 2025?\n",
      "➡️ The Morgan Stanley Technology, Media & Telecom Conference took place from Monday, March 3 through Thursday, March 6, 2025, at The Palace Hotel in San Francisco, California. The conference sessions began at 7:00 a.m. on Monday and concluded by 6:15 p.m. on Thursday, hosting over 300 companies along with chief investment officers, portfolio managers, and analysts. The event featured unplugged fireside chats with C-level management and one-on-one group meetings, with different companies presenting on various days throughout the four-day conference period.\n",
      "📝 Logged to Quotient with log_id: 64a19b6f-e58e-4b60-b405-3377120dfced\n",
      "\n",
      "🧠 Who were awarded the Nobel Prize for chemistry in October 2024 for their work on AI-related protein folding tools?\n",
      "➡️ The 2024 Nobel Prize in Chemistry was awarded to three scientists for their groundbreaking work on AI-related protein folding tools. David Baker from the University of Washington received half of the prize for his work on computational protein design, while Demis Hassabis and John Jumper from Google DeepMind in London shared the other half for developing AlphaFold, an artificial intelligence model that predicts protein structures with remarkable accuracy. The prize was announced on October 9, 2024, marking the first time a scientific breakthrough enabled by artificial intelligence was recognized with a Nobel Prize. Their work solved fundamental challenges in biology by accurately predicting protein structures and designing new proteins with specific functions, addressing what had been a 50-year-old problem in the field and laying the foundation for transformative advances in understanding biological systems.\n",
      "📝 Logged to Quotient with log_id: d47bf401-e4f0-49c9-ab73-7004a9fa3087\n",
      "\n",
      "🧠 What is the expected clean energy technology spending in 2025 according to the 'Top Cleantech Trends for 2025' report by S&P Global?\n",
      "➡️ According to the 'Top Cleantech Trends for 2025' report by S&P Global, clean energy technology spending is expected to reach $670 billion in 2025. This represents a historic milestone as it marks the first time that cleantech energy supply investments will surpass upstream oil and gas spending. The spending encompasses renewable power generation, energy storage, green hydrogen production, and carbon capture and storage (CCS) technologies. Solar photovoltaic technology is projected to dominate this investment landscape, accounting for approximately half of all cleantech spending and two-thirds of the installed megawatts capacity in 2025.\n",
      "📝 Logged to Quotient with log_id: f7c741b3-2b36-49fb-bdb5-69e6db4bbf28\n",
      "\n",
      "🧠 According to the article '4 key trends to watch in clean energy technology in 2025', by how much did the cost of lithium-ion batteries fall in 2024?\n",
      "➡️ According to the article \"4 key trends to watch in clean energy technology in 2025,\" the cost of lithium-ion batteries fell 40% in 2024 alone. This significant decline was part of a broader trend in energy storage cost reduction that has made project economics increasingly attractive, with lithium-ion battery costs having dropped more than 90% over the entire last decade. The rapid cost reduction has been a major driver of growth in the energy storage sector, contributing to the technology's great strides among emerging clean energy solutions.\n",
      "📝 Logged to Quotient with log_id: c4709ba6-3e39-4b29-a83e-dfcc0abe9003\n",
      "\n",
      "🧠 According to the 2025 Renewable Energy Industry Outlook by Deloitte, what was the percentage increase in utility-scale solar capacity additions in the United States between January and August 2023 compared to the same period in 2022?\n",
      "➡️ The retrieved data does not contain the specific percentage increase in utility-scale solar capacity additions in the United States between January and August 2023 compared to the same period in 2022 as referenced in Deloitte's 2025 Renewable Energy Industry Outlook. While the data shows that solar was the only primary source of generation that recorded capacity growth with an 88% jump to 18.6 gigawatts in 2024, and that utility-scale solar additions decreased in 2022 compared to 2021, the specific January-August 2023 versus 2022 comparison figure is not available in the provided sources. The Deloitte report mentions analysis of Federal Energy Regulatory Commission data regarding deployment proceeding at variable speeds during this period, but the exact percentage increase for that timeframe is not specified in the available information.\n",
      "📝 Logged to Quotient with log_id: 6904db77-e29e-4ff7-a5ca-bcea75f64cae\n"
     ]
    }
   ],
   "source": [
    "from tqdm import tqdm\n",
    "\n",
    "tavily_results = []\n",
    "log_ids = []\n",
    "\n",
    "num_results = 10\n",
    "\n",
    "for query in queries[:num_results]:\n",
    "    response = tavily_client.search(\n",
    "        query=query, \n",
    "        include_answer='advanced',\n",
    "        search_depth='advanced',\n",
    "        include_raw_content=True,\n",
    "    )\n",
    "\n",
    "    print(f\"\\n🧠 {query}\\n➡️ {response['answer']}\")\n",
    "\n",
    "    log_id = quotient.log(\n",
    "        user_query=query, \n",
    "        model_output=response['answer'], \n",
    "        # Send the *raw content* of retrieved documents for grounding checks\n",
    "        documents=[str(doc) for doc in response['results']],\n",
    "    )\n",
    "    \n",
    "    print(f\"📝 Logged to Quotient with log_id: {log_id}\")\n",
    "    \n",
    "    log_ids.append(log_id)"
   ]
  },
  {
   "cell_type": "markdown",
   "metadata": {},
   "source": [
    "### How It Works\n",
    "\n",
    "When `.log()` is called:\n",
    "\n",
    "1. **Data ingestion:** The query, model output, and all retrieved document contents are logged to Quotient.\n",
    "\n",
    "2. **Async detection pipeline:** Quotient runs:\n",
    "- **Hallucination detection**, labeling the output as hallucinated or not.\n",
    "- **Document relevance scoring**, marking which retrieved documents helped ground the output \n",
    "\n",
    "3. **Result retrieval:** You can poll or fetch detections linked to your `log_id`.\n",
    "\n",
    "4. **Monitor and troubleshoot in the Quotient app:** Access the [Quotient dashboard](app.quotientai.co) to:\n",
    "- Monitor you AI system over time\n",
    "- Review flagged hallucinated sentences.\n",
    "- See which documents were irrelevant.\n",
    "- Compare across tags or environments for deeper insights.\n",
    "\n",
    "For full implementation details, visit the Quotient [docs](https://docs.quotientai.co/).\n"
   ]
  },
  {
   "cell_type": "markdown",
   "metadata": {},
   "source": [
    "# Step 4: Review detections in Quotient\n",
    "\n",
    "You can now view your logs and detections in the [Quotient dashboard](app.quotientai.co), where you can also filter them by tags and environments to identify common failure patterns.\n",
    "\n",
    "![Quotient AI Dashboard](Quotient_Dashboard.png \"Quotient AI Dashboard\")\n"
   ]
  },
  {
   "cell_type": "markdown",
   "metadata": {},
   "source": [
    "## What You’ve Built\n",
    "\n",
    "A lightweight search and monitoring pipeline that:\n",
    "- Runs live AI search queries\n",
    "- Automatically checks if answers are grounded in retrieved evidence\n",
    "- Flags hallucinations and irrelevant retrievals\n",
    "\n",
    "You can scale this to monitor production traffic, benchmark retrieval and search performance, or compare different models side by side."
   ]
  },
  {
   "cell_type": "markdown",
   "metadata": {},
   "source": [
    "## How to interpret the results\n",
    "- Well-grounded systems typically show **< 5% hallucination rate**. If yours is higher, it’s often a signal that either your data ingestion, retrieval pipeline, or prompting needs improvement.\n",
    "\n",
    "- High-performing systems typically show **> 75% document relevance**. Lower scores may signal ambiguous user queries, incorrect retrieval, or noisy source data.\n"
   ]
  },
  {
   "cell_type": "markdown",
   "metadata": {},
   "source": [
    "# (Optional) Grab the detection results from Quotient\n",
    "\n",
    "Quotient's detections are now available to fetch via the Quotient SDK using the `log_id` you received earlier:"
   ]
  },
  {
   "cell_type": "code",
   "execution_count": null,
   "metadata": {},
   "outputs": [
    {
     "name": "stderr",
     "output_type": "stream",
     "text": [
      " 30%|███       | 3/10 [00:09<00:22,  3.21s/it]2025-06-19 00:22:49,403 ERROR:quotientai.exceptions: Timed out waiting for RCA results after 300 seconds\n",
      "100%|██████████| 10/10 [05:28<00:00, 32.81s/it]"
     ]
    },
    {
     "name": "stdout",
     "output_type": "stream",
     "text": [
      "Number of results: 10\n",
      "Percentage of hallucinations: 33.33%\n",
      "Average percentage of relevant document: 91.11%\n"
     ]
    },
    {
     "name": "stderr",
     "output_type": "stream",
     "text": [
      "\n"
     ]
    }
   ],
   "source": [
    "hallucination_detections = []\n",
    "doc_relevancy_detections = []\n",
    "\n",
    "for id in tqdm(log_ids):\n",
    "    try:\n",
    "        detection = quotient.poll_for_detection(log_id=id)\n",
    "        # Add the hallucination detection to the hallucination_detections list\n",
    "        hallucination_detections.append(detection.has_hallucination)\n",
    "        # Add the document relevancy detection to the doc_relevancy_detections list\n",
    "        docs = detection.log_documents\n",
    "        doc_relevancy_detections.append(sum(1 for doc in docs if doc.get('is_relevant') is True) / len(docs) if docs else None)\n",
    "    except:\n",
    "        continue\n",
    "\n",
    "print(f\"Number of results: {len(log_ids)}\")\n",
    "print(f\"Percentage of hallucinations: {sum(hallucination_detections)/len(hallucination_detections)*100:.2f}%\")\n",
    "print(f\"Average percentage of relevant documents: {sum(doc_relevancy_detections)/len(doc_relevancy_detections)*100:.2f}%\")"
   ]
  }
 ],
 "metadata": {
  "kernelspec": {
   "display_name": "quotient-agent",
   "language": "python",
   "name": "python3"
  },
  "language_info": {
   "codemirror_mode": {
    "name": "ipython",
    "version": 3
   },
   "file_extension": ".py",
   "mimetype": "text/x-python",
   "name": "python",
   "nbconvert_exporter": "python",
   "pygments_lexer": "ipython3",
   "version": "3.10.13"
  }
 },
 "nbformat": 4,
 "nbformat_minor": 2
}
