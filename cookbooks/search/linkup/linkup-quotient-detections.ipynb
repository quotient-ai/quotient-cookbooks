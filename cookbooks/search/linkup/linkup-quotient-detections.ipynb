{
  "cells": [
    {
      "cell_type": "markdown",
      "metadata": {
        "vscode": {
          "languageId": "raw"
        }
      },
      "source": [
        "# Building a Company Research Agent with Linkup & Quotient\n",
        "\n",
        "<a target=\"_blank\" href=\"https://colab.research.google.com/github/quotient-ai/quotient-cookbooks/blob/main/cookbooks/search/linkup/linkup-quotient-detections.ipynb\">\n",
        " <img src=\"https://colab.research.google.com/assets/colab-badge.svg\" alt=\"Open In Colab\"/>\n",
        "</a>\n",
        "\n",
        "This cookbook demonstrates how to build a company description generator using [Linkup](https://docs.linkup.so/) while monitoring result accuracy with [Quotient AI](https://www.quotientai.co/).\n",
        "\n",
        "We'll cover:\n",
        "- Using Linkup's API to gather comprehensive company details\n",
        "- Generating company descriptions with validation\n",
        "- Monitoring result quality and detecting hallucinations with Quotient\n",
        "- Understanding and improving the accuracy of company information retrieval\n"
      ]
    },
    {
      "cell_type": "code",
      "execution_count": 1,
      "metadata": {},
      "outputs": [],
      "source": [
        "# install dependencies\n",
        "! pip install -qU quotientai linkup-sdk tqdm"
      ]
    },
    {
      "cell_type": "markdown",
      "metadata": {
        "vscode": {
          "languageId": "raw"
        }
      },
      "source": [
        "## Step 0: Grab your API keys\n",
        "\n",
        "We'll use API keys from:\n",
        " - [Linkup](https://docs.linkup.so/) — get your API key from the [Linkup app](https://app.linkup.so/sign-up)\n",
        " - [Quotient AI](https://www.quotientai.co) — get your API key from the [Quotient AI app](https://app.quotientai.co)\n",
        " \n",
        "Both Linkup and Quotient offer generous free tiers to get started."
      ]
    },
    {
      "cell_type": "code",
      "execution_count": 2,
      "metadata": {},
      "outputs": [],
      "source": [
        "import os\n",
        "# Set API keys:\n",
        "os.environ['LINKUP_API_KEY'] = \"linkup_api_key\"\n",
        "os.environ['QUOTIENT_API_KEY'] = \"quotient_api_key\"\n"
      ]
    },
    {
      "cell_type": "markdown",
      "metadata": {
        "vscode": {
          "languageId": "raw"
        }
      },
      "source": [
        "## Step 1: Set up Linkup Search and Quotient Monitoring\n",
        "\n",
        "We'll configure Linkup's API to perform comprehensive company research. Our search queries will focus on gathering key information about each company, including:\n",
        "- Main products and services\n",
        "- Recent developments and achievements\n",
        "- Company size and market position\n",
        "- Key technologies and innovations\n",
        "- Notable partnerships and milestones\n"
      ]
    },
    {
      "cell_type": "code",
      "execution_count": 3,
      "metadata": {},
      "outputs": [],
      "source": [
        "from linkup import LinkupClient\n",
        "from typing import Dict, Any\n",
        "\n",
        "# Initialize the client\n",
        "client = LinkupClient(api_key=os.getenv('LINKUP_API_KEY'))\n",
        "\n",
        "def generate_query(company_name: str, country: str) -> str:\n",
        "    query = (\n",
        "            f\"Provide a comprehensive overview of {company_name} in {country}. \"\n",
        "            \"Focus on: 1) Their main products and services, \"\n",
        "            \"2) Recent major developments and achievements, \"\n",
        "            \"3) Company size and market position, \"\n",
        "            \"4) Key technologies or innovations they're known for.\"\n",
        "        )\n",
        "    return query\n",
        "\n",
        "def get_company_info(company_name: str, country: str) -> Dict[str, Any]:\n",
        "    \"\"\"\n",
        "    Get detailed information about a company using Linkup's sourcedAnswer.\n",
        "\n",
        "    Args:\n",
        "        company_name: Name of the company\n",
        "        country: Country where the company operates\n",
        "\n",
        "    Returns:\n",
        "        Dictionary containing the answer and source documents\n",
        "    \"\"\"\n",
        "    try:\n",
        "        # Clean input\n",
        "        company_name = company_name.strip()\n",
        "        country = country.strip()\n",
        "        \n",
        "        # Generate search query\n",
        "        query = generate_query(company_name, country)\n",
        "\n",
        "        # Call Linkup API\n",
        "        response = client.search(\n",
        "            query=query,\n",
        "            depth=\"deep\",  # Use deep for more thorough results\n",
        "            output_type=\"sourcedAnswer\"\n",
        "        )\n",
        "        \n",
        "        # Access attributes directly from the LinkupSourcedAnswer object\n",
        "        return {\n",
        "            'answer': response.answer,\n",
        "            'sources': response.sources\n",
        "        }\n",
        "        \n",
        "    except Exception as e:\n",
        "        return {\n",
        "            'error': str(e),\n",
        "            'company_name': company_name,\n",
        "            'country': country\n",
        "        }\n"
      ]
    },
    {
      "cell_type": "markdown",
      "metadata": {
        "vscode": {
          "languageId": "raw"
        }
      },
      "source": [
        "Quotient is an intelligent observability platform designed for retrieval-augmented and search-augmented AI systems.\n",
        "\n",
        "Quotient performs automated detections on two key fronts each time you send it a log:\n",
        "\n",
        "- **Hallucination:** Identifies statements in the model output that are unsupported by the retrieved documents or that contradict them. This flagging is done at the sentence level and returns a boolean indicator if any part of the answer contains a hallucination.\n",
        "\n",
        "- **Document Relevance:** Evaluates each retrieved document to determine whether it meaningfully contributed to grounding the answer. Quotient returns relevance labels for all documents, helping gauge retrieval and search quality.\n",
        "  \n",
        "These capabilities are enabled automatically when `hallucination_detection=True` is set during logger initialization.\n",
        "\n",
        "Below, we'll set up the Quotient logger, send each AI-search result for automatic evaluation, and retrieve structured logs and detections:\n"
      ]
    },
    {
      "cell_type": "code",
      "execution_count": 4,
      "metadata": {},
      "outputs": [
        {
          "data": {
            "text/plain": [
              "<quotientai.client.QuotientLogger at 0x105b2c9d0>"
            ]
          },
          "execution_count": 4,
          "metadata": {},
          "output_type": "execute_result"
        }
      ],
      "source": [
        "from quotientai import QuotientAI\n",
        "\n",
        "# Initialize the Quotient SDK\n",
        "quotient = QuotientAI()\n",
        "\n",
        "quotient.logger.init(\n",
        "    # Name your application or project\n",
        "    app_name=\"linkup-company-research\",\n",
        "    # Set the environment (e.g., \"dev\", \"prod\", \"staging\")\n",
        "    environment=\"test\",\n",
        "    # Set the sample rate for logging (0-1.0)\n",
        "    sample_rate=1.0,\n",
        "    # Enable hallucination detection\n",
        "    hallucination_detection=True,\n",
        "    # Set the sample rate for detections (0-1.0)\n",
        "    hallucination_detection_sample_rate=1.0,\n",
        ")\n"
      ]
    },
    {
      "cell_type": "markdown",
      "metadata": {
        "vscode": {
          "languageId": "raw"
        }
      },
      "source": [
        "## Step 2: Generate Structured Company Descriptions\n",
        "\n",
        "\n",
        "We'll test our company description generator with a set of well-known technology companies. For each company, we'll provide:\n",
        "- Company name\n",
        "- Country of operation"
      ]
    },
    {
      "cell_type": "code",
      "execution_count": 5,
      "metadata": {},
      "outputs": [],
      "source": [
        "# Example companies to look up\n",
        "companies = [\n",
        "    (\"Anthropic\", \"United States\"),\n",
        "    (\"Stripe\", \"United States\"),\n",
        "    (\"OpenAI\", \"United States\"),\n",
        "    (\"Microsoft\", \"United States\"),\n",
        "    (\"Google\", \"United States\")\n",
        "]\n"
      ]
    },
    {
      "cell_type": "markdown",
      "metadata": {
        "vscode": {
          "languageId": "raw"
        }
      },
      "source": [
        "Let's generate detailed, structured descriptions for each company using Linkup's API. For each company, we will:\n",
        "1. Generate a comprehensive search query\n",
        "2. Use Linkup's structured output feature to extract company information\n",
        "3. Format the results according to our schema\n",
        "4. Log the results in Quotient for quality monitoring\n",
        "\n",
        "The structured output ensures consistent formatting and makes it easy to use the company information in downstream applications.\n"
      ]
    },
    {
      "cell_type": "code",
      "execution_count": 6,
      "metadata": {},
      "outputs": [
        {
          "name": "stdout",
          "output_type": "stream",
          "text": [
            "\n",
            "Looking up: Anthropic in United States\n",
            "\n",
            "📊 Company Information:\n",
            "1) Main products and services: Anthropic offers AI systems focused on safety and reliability, including Claude Opus 4, which delivers superior reasoning, human-quality responses, and brand safety. Their AI excels in customer support, coding, and AI agent collaboration, emphasizing honesty and jailbreak resistance. They provide integration of AI capabilities into applications for faster production-grade solutions.\n",
            "\n",
            "2) Recent major developments and achievements: Claude Opus 4 is a notable recent advancement, outperforming other models in AI agent scenarios and ranking highest in honesty, jailbreak resistance, and brand safety.\n",
            "\n",
            "3) Company size and market position: Anthropic is a research and AI safety company with a diverse team from backgrounds including NASA, startups, and the armed forces. They are positioned as a leader in AI safety and reliable AI systems.\n",
            "\n",
            "4) Key technologies or innovations: Their key innovation is building reliable, interpretable AI systems with a focus on safety, brand safety, and honest AI behavior, exemplified by their Claude AI models.\n",
            "📝 Logged to Quotient with log_id: 4a569271-85ec-402f-a14b-dee4b9c9f6d7\n",
            "\n",
            "Looking up: Stripe in United States\n",
            "\n",
            "📊 Company Information:\n",
            "1) Main products and services:\n",
            "- Stripe provides APIs for online payment processing and commerce solutions for internet businesses of all sizes.\n",
            "- Key products include Stripe Payments, Stripe Connect (multiparty payments for platforms and marketplaces), Stripe Radar (fraud prevention), Stripe Billing (subscription and invoicing management), Stripe Issuing (creating physical and digital cards), Stripe Terminal (in-person payments with card readers), Stripe Tax (automated tax calculation and collection), Stripe Treasury (embedded banking services), and Stripe Capital (small business loans).\n",
            "- Additional services include financial connections for bank account verification, an app marketplace for third-party integrations, and tools for revenue recognition, accounting automation, and data analytics.\n",
            "\n",
            "2) Recent major developments and achievements:\n",
            "- In 2024 and 2025, Stripe processed over $1 trillion in payment volume, with a valuation around $70-$91 billion.\n",
            "- Launched the world's first AI foundation model for payments and expanded money management capabilities including stablecoin-powered accounts.\n",
            "- Acquired Bridge, a stablecoin infrastructure company, for $1.1 billion.\n",
            "- Partnered with OpenAI to commercialize generative AI technology.\n",
            "- Introduced major upgrades to Stripe Dashboard, instant onboarding, and turnkey consumer issuing programs.\n",
            "- Expanded support for over 100 payment methods and launched no-code A/B testing for payment methods.\n",
            "- Launched Stripe Climate and Frontier initiatives to fund carbon removal technologies.\n",
            "- Appointed Mark Carney to the board and acquired accountancy platform Recko.\n",
            "\n",
            "3) Company size and market position:\n",
            "- Headquartered in San Francisco and Dublin, with offices worldwide.\n",
            "- Employs approximately 8,500+ employees.\n",
            "- Serves millions of companies globally, from startups to Fortune 500 enterprises.\n",
            "- Holds about 17% market share in payment processing by number of websites using the software.\n",
            "- Processes hundreds of billions to over a trillion dollars annually.\n",
            "- Valued as one of the most valuable private fintech companies globally, with a valuation near $70-$91 billion.\n",
            "- Customers include major enterprises like Amazon, Microsoft, Uber, Airbnb, BMW, and Shopify.\n",
            "\n",
            "4) Key technologies and innovations:\n",
            "- Developer-friendly, API-first platform enabling easy integration of payments and financial services.\n",
            "- AI-powered fraud detection and payment optimization (Radar, Radar Assistant).\n",
            "- AI foundation model for payments to boost conversion and reduce costs.\n",
            "- Embedded finance capabilities including banking-as-a-service (Treasury, Issuing).\n",
            "- Stablecoin-powered accounts and cryptocurrency infrastructure.\n",
            "- Cloud-based hardware management for in-person payments (Terminal).\n",
            "- Advanced tax automation and compliance tools (Stripe Tax).\n",
            "- Continuous integration and deployment systems for high reliability and developer experience.\n",
            "- Extensive use of open-source technologies and novel engineering approaches for scalability and security.\n",
            "\n",
            "In summary, Stripe is a leading financial infrastructure platform in the US and globally, known for its comprehensive suite of payment and financial services products, rapid innovation especially in AI and embedded finance, strong market presence, and partnerships with major global enterprises.\n",
            "📝 Logged to Quotient with log_id: a6c63e07-6600-4505-8406-6a7b527ddc92\n",
            "\n",
            "Looking up: OpenAI in United States\n",
            "\n",
            "📊 Company Information:\n",
            "1) Main products and services:\n",
            "- OpenAI is an AI research and deployment company offering AI models and APIs.\n",
            "- Their products include ChatGPT (AI-powered chatbot), GPT family language models, DALL-E (text-to-image generation), and Sora (text-to-video generation).\n",
            "- Services span multiple sectors: finance (report simplification, forecasting), sales & marketing (data summarization, campaign creation), engineering (coding support), healthcare (enterprise AI for care quality), financial services (advisor AI solutions), and startups (business growth with AI).\n",
            "- They provide an API platform for developers to integrate AI models into applications.\n",
            "- OpenAI emphasizes data security; ChatGPT does not train on user data.\n",
            "\n",
            "2) Recent major developments and achievements:\n",
            "- In 2025, OpenAI unveiled the o3 model, a significant advancement in AI reasoning and problem-solving, surpassing previous models in coding, math, and science.\n",
            "- Released GPT-4.1 API with improvements in coding, instruction following, and long-context understanding.\n",
            "- Launched \"Operator,\" an AI assistant for online tasks like ordering groceries and ticket purchases.\n",
            "- Acquired AI hardware startup io for $6.5 billion to develop AI-powered hardware products.\n",
            "- Secured a $200 million contract with the U.S. Department of Defense for AI tools in military and national security.\n",
            "- Partnered with Anduril to deploy AI on the battlefield focused on defense against unmanned aerial threats.\n",
            "- Raised $40 billion in funding at a $300 billion valuation, led by SoftBank and including Microsoft.\n",
            "- Expanded product offerings with customized GPTs and enhanced AI capabilities for developers.\n",
            "\n",
            "3) Company size and market position:\n",
            "- OpenAI is a leading AI company headquartered in San Francisco, USA.\n",
            "- It operates under a unique capped-profit model governed by a nonprofit entity.\n",
            "- The company has strong strategic partnerships, notably with Microsoft, which provides cloud infrastructure and investment.\n",
            "- OpenAI is valued at around $300 billion as of 2025, making it one of the most valuable private AI companies.\n",
            "- It holds a dominant position in generative AI, competing with major tech firms like Google and Amazon.\n",
            "- The company has a significant influence on AI ethics, safety, and governance discussions globally.\n",
            "\n",
            "4) Key technologies and innovations:\n",
            "- Pioneering large language models (LLMs) such as GPT-3, GPT-4, GPT-4.1, and the o-family models focused on advanced reasoning.\n",
            "- Generative AI technologies including text, image (DALL-E), and video (Sora) generation.\n",
            "- Innovations in AI safety, alignment with human values, and responsible AI deployment.\n",
            "- Development of AI agents capable of complex tasks and real-world problem solving.\n",
            "- Patented technologies in perception systems, control mechanisms, and AI-driven healthcare solutions.\n",
            "- Integration of AI with cloud computing via Microsoft Azure for scalable deployment.\n",
            "- Focus on multimodal AI models that handle text, images, audio, and video inputs.\n",
            "\n",
            "This overview reflects OpenAI's current status, products, innovations, and strategic direction as of mid-2025.\n",
            "📝 Logged to Quotient with log_id: facf7d71-bc27-4e8c-8298-94bae2b1a0c5\n",
            "\n",
            "Looking up: Microsoft in United States\n",
            "\n",
            "📊 Company Information:\n",
            "1) Main Products and Services:\n",
            "- Operating systems (Windows)\n",
            "- Productivity applications (Microsoft 365, Office suite)\n",
            "- Cloud computing services (Azure)\n",
            "- Business solutions (Dynamics 365, LinkedIn)\n",
            "- Developer tools and platforms (.NET, Visual Studio, GitHub)\n",
            "- Gaming hardware and content (Xbox consoles, Xbox Game Pass)\n",
            "- AI-powered tools and services (Microsoft Copilot, AI integrations in Windows and SQL Server)\n",
            "- Devices (Surface laptops, tablets, and accessories)\n",
            "- Communication and collaboration tools (Microsoft Teams)\n",
            "\n",
            "2) Recent Major Developments and Achievements:\n",
            "- Introduction of AI-powered Copilot enhancements integrated into Microsoft 365 and developer tools like Visual Studio Code and GitHub Copilot.\n",
            "- Public preview release of SQL Server 2025 with AI-ready enterprise database capabilities.\n",
            "- Expansion of AI security and management tools embedded in Azure AI Foundry and Copilot Studio.\n",
            "- Launch of new Surface Copilot+ PCs with Intel Core Ultra processors.\n",
            "- Continued strong financial performance with significant shareholder returns through dividends and share repurchases.\n",
            "- Commitment to European digital market principles and AI model openness.\n",
            "- Ongoing innovation in Windows platform capabilities for AI development.\n",
            "\n",
            "3) Company Size and Market Position:\n",
            "- Founded in 1975, headquartered in Redmond, Washington.\n",
            "- One of the largest technology companies globally, ranked No. 14 in the 2022 Fortune 500 by revenue.\n",
            "- Leading software maker by revenue worldwide.\n",
            "- Operates globally with extensive R&D facilities and data centers.\n",
            "- Employs tens of thousands worldwide.\n",
            "- Strong market presence in software, cloud computing, productivity tools, and gaming.\n",
            "\n",
            "4) Key Technologies or Innovations:\n",
            "- Windows operating system and its evolution as an open platform for AI and developer tools.\n",
            "- Microsoft Azure cloud platform offering hybrid, public, and private cloud services.\n",
            "- AI integration across products, including Microsoft 365 Copilot, GitHub Copilot, and SQL Server 2025.\n",
            "- Development of agentic AI workflows and multi-agent orchestration for enterprise productivity.\n",
            "- Surface hardware innovation combining powerful computing with AI capabilities.\n",
            "- Advanced security and compliance tools embedded in cloud and AI services.\n",
            "- Extensive research through Microsoft Research labs worldwide focusing on AI, cloud, and computing advancements.\n",
            "\n",
            "This overview is based on the latest publicly available data and recent announcements as of mid-2025.\n",
            "📝 Logged to Quotient with log_id: 4d3c8a28-e4a1-40c4-9a52-e9908d520410\n",
            "\n",
            "Looking up: Google in United States\n",
            "\n",
            "📊 Company Information:\n",
            "1) Main Products and Services:\n",
            "- Google offers a wide range of products including Google Search, Gmail, Google Maps, Google Photos, Google Workspace (Docs, Sheets, etc.), Android OS, Pixel devices (phones, tablets, earbuds, watches), Google Cloud services, and AI-powered tools like Gemini integrated into many products.\n",
            "- Gmail serves over a billion users daily with advanced AI spam filtering.\n",
            "- Google AI products include generative AI models Gemini, Veo (video generation), Imagen (image generation), and AI assistants integrated into Search, Workspace, and other services.\n",
            "- Google Cloud provides infrastructure, AI platforms like Vertex AI, and enterprise solutions.\n",
            "- Google also develops hardware such as Pixel phones, smart glasses (in partnership with Gentle Monster and Warby Parker), and streaming devices.\n",
            "\n",
            "2) Recent Major Developments and Achievements:\n",
            "- At Google I/O 2025, Google announced major AI advancements including Gemini 2.5 Flash, AI Mode in Search rolling out to all US users, and new AI tools for developers.\n",
            "- Google introduced Project Astra, a universal AI assistant prototype.\n",
            "- Google Cloud Next 2025 featured new AI infrastructure like the Ironwood TPU chip and Cloud Wide Area Network.\n",
            "- Google expanded AI capabilities in Google Meet with real-time speech translation maintaining voice tone and expressions.\n",
            "- Google DeepMind collaborations produced generative AI tools for filmmaking and scientific research breakthroughs.\n",
            "- Gemini AI models have seen rapid adoption with a 20x increase in Vertex AI usage in the past year.\n",
            "- Google is advancing AI for public sector innovation, wildfire detection (FireSat), and healthcare AI models like MedGemma.\n",
            "\n",
            "3) Company Size and Market Position:\n",
            "- Google is a dominant player in internet search, online advertising, cloud computing, and AI.\n",
            "- It generates around $80 billion in revenue per quarter, primarily from advertising.\n",
            "- Google Search handles over 5 trillion searches annually.\n",
            "- Over 7 million developers build with Google's AI models, with Gemini usage on Vertex AI up 40 times year-over-year.\n",
            "- Google Cloud is growing rapidly, competing strongly with AWS and Azure.\n",
            "- Google serves billions of users worldwide across its consumer and enterprise products.\n",
            "\n",
            "4) Key Technologies and Innovations:\n",
            "- Leading AI models: Gemini series (2.5 Flash, Pro), Veo (video generation), Imagen (image generation), SignGemma (sign language translation).\n",
            "- AI-powered features integrated into Search, Workspace, Meet, and developer tools.\n",
            "- Advanced AI infrastructure including the Ironwood TPU chip and Cloud Wide Area Network.\n",
            "- Multimodal AI capabilities supporting text, audio, and visual inputs.\n",
            "- Research breakthroughs in protein folding (AlphaFold), brain mapping, and medical AI.\n",
            "- Development of AI agents and multi-agent ecosystems for automation and enhanced productivity.\n",
            "- Innovations in hardware including Pixel devices, Android XR smart glasses, and AI-enhanced developer tools.\n",
            "\n",
            "In summary, Google in the US remains a global technology leader with a vast portfolio of consumer and enterprise products, a strong market position fueled by advertising and cloud services, and a forefront role in AI innovation and infrastructure development as of 2025.\n",
            "📝 Logged to Quotient with log_id: 9b68b3fe-383e-403c-a72a-bc48a71a9b04\n"
          ]
        }
      ],
      "source": [
        "log_ids = []\n",
        "\n",
        "for company_name, country in companies:\n",
        "    print(f\"\\nLooking up: {company_name} in {country}\")\n",
        "    result = get_company_info(company_name, country)\n",
        "    \n",
        "    if 'error' in result:\n",
        "        print(f\"❌ Error: {result['error']}\")\n",
        "        continue\n",
        "        \n",
        "    print(f\"\\n📊 Company Information:\\n{result['answer']}\")\n",
        "    \n",
        "    # Log to Quotient for quality monitoring\n",
        "    log_id = quotient.log(\n",
        "        user_query=f\"Get information about {company_name} in {country}\",\n",
        "        model_output=result['answer'],\n",
        "        documents=[str(doc) for doc in result['sources']]\n",
        "    )\n",
        "    \n",
        "    print(f\"📝 Logged to Quotient with log_id: {log_id}\")\n",
        "    log_ids.append(log_id)\n"
      ]
    },
    {
      "cell_type": "markdown",
      "metadata": {
        "vscode": {
          "languageId": "raw"
        }
      },
      "source": [
        "### How It Works\n",
        "\n",
        "When `.log()` is called:\n",
        "\n",
        "1. **Data ingestion:** The query, model output, and all retrieved document contents are logged to Quotient.\n",
        "\n",
        "2. **Async detection pipeline:** Quotient runs:\n",
        "- **Hallucination detection**, labeling the output as hallucinated or not.\n",
        "- **Document relevance scoring**, marking which retrieved documents helped ground the output \n",
        "\n",
        "3. **Result retrieval:** You can poll or fetch detections linked to your `log_id`.\n",
        "\n",
        "4. **Monitor and troubleshoot in the Quotient app:** Access the [Quotient dashboard](app.quotientai.co) to:\n",
        "- Monitor your AI system over time\n",
        "- Review flagged hallucinated sentences\n",
        "- See which documents were irrelevant\n",
        "- Compare across tags or environments for deeper insights\n",
        "\n",
        "For full implementation details, visit the Quotient [docs](https://docs.quotientai.co/).\n"
      ]
    },
    {
      "cell_type": "markdown",
      "metadata": {
        "vscode": {
          "languageId": "raw"
        }
      },
      "source": [
        "# Step 4: Review detections in Quotient\n",
        "\n",
        "You can now view your logs and detections in the [Quotient dashboard](app.quotientai.co), where you can also filter them by tags and environments to identify common failure patterns.\n",
        "\n",
        "![Quotient AI Dashboard](Quotient_Dashboard.png \"Quotient AI Dashboard\")"
      ]
    },
    {
      "cell_type": "markdown",
      "metadata": {
        "vscode": {
          "languageId": "raw"
        }
      },
      "source": [
        "## What You've Built\n",
        "\n",
        "A production-ready company description generator that:\n",
        "- Takes company names and countries as input\n",
        "- Returns comprehensive, well-researched company information\n",
        "- Provides source attribution for fact verification\n",
        "- Monitors accuracy through Quotient's hallucination detection\n",
        "- Verifies information quality with document relevance scoring\n",
        "\n",
        "You can scale this to monitor production traffic, benchmark retrieval and search performance, or compare different models side by side.\n"
      ]
    },
    {
      "cell_type": "markdown",
      "metadata": {
        "vscode": {
          "languageId": "raw"
        }
      },
      "source": [
        "## Understanding Result Quality\n",
        "\n",
        "When evaluating the company descriptions, pay attention to these metrics:\n",
        "\n",
        "- **Hallucination Rate**: Should be **< 5%**\n",
        "  - Higher rates might indicate:\n",
        "    - Outdated or conflicting company information online\n",
        "    - Need for more specific company identifiers in queries\n",
        "    - Issues with source document quality\n",
        "\n",
        "- **Document Relevance**: Should be **> 75%**\n",
        "  - Lower scores might suggest:\n",
        "    - Company name ambiguity (e.g., common names or multiple companies)\n",
        "    - Need for additional company identifiers (e.g., industry, location)\n",
        "    - Source documents discussing different companies or topics\n",
        "\n",
        "- **Schema Completeness**: Monitor how often optional fields (location, companySize, linkedInUrl) are successfully populated\n",
        "  - Missing fields might indicate:\n",
        "    - Information not readily available online\n",
        "    - Need for additional data sources\n",
        "    - Opportunities for schema refinement\n"
      ]
    },
    {
      "cell_type": "markdown",
      "metadata": {
        "vscode": {
          "languageId": "raw"
        }
      },
      "source": [
        "# (Optional) Analyze Quality Metrics\n",
        "\n",
        "Let's fetch the quality metrics from Quotient to understand:\n",
        "- How accurate our company descriptions are\n",
        "- Which sources were most relevant\n",
        "- Where we might need additional data or refinement\n",
        "\n",
        "Quotient's detections are available via the SDK using the `log_id` from each company lookup:\n"
      ]
    },
    {
      "cell_type": "code",
      "execution_count": 8,
      "metadata": {},
      "outputs": [
        {
          "name": "stderr",
          "output_type": "stream",
          "text": [
            "100%|██████████| 5/5 [08:24<00:00, 100.91s/it]"
          ]
        },
        {
          "name": "stdout",
          "output_type": "stream",
          "text": [
            "Number of results: 5\n",
            "Percentage of hallucinations: 80.00%\n",
            "Average percentage of relevant documents: 39.04%\n"
          ]
        },
        {
          "name": "stderr",
          "output_type": "stream",
          "text": [
            "\n"
          ]
        }
      ],
      "source": [
        "hallucination_detections = []\n",
        "doc_relevancy_detections = []\n",
        "\n",
        "from tqdm import tqdm\n",
        "\n",
        "for id in tqdm(log_ids):\n",
        "    try:\n",
        "        detection = quotient.poll_for_detection(log_id=id)\n",
        "        # Add the hallucination detection to the hallucination_detections list\n",
        "        hallucination_detections.append(detection.has_hallucination)\n",
        "        # Add the document relevancy detection to the doc_relevancy_detections list\n",
        "        docs = detection.log_documents\n",
        "        doc_relevancy_detections.append(sum(1 for doc in docs if doc.get('is_relevant') is True) / len(docs) if docs else None)\n",
        "    except Exception as e:\n",
        "        print(f\"Error fetching detection for log_id {id}: {e}\")\n",
        "\n",
        "print(f\"Number of results: {len(log_ids)}\")\n",
        "print(f\"Percentage of hallucinations: {sum(hallucination_detections)/len(hallucination_detections)*100:.2f}%\")\n",
        "print(f\"Average percentage of relevant documents: {sum(doc_relevancy_detections)/len(doc_relevancy_detections)*100:.2f}%\")\n"
      ]
    }
  ],
  "metadata": {
    "kernelspec": {
      "display_name": "tavily-quotient-eval",
      "language": "python",
      "name": "python3"
    },
    "language_info": {
      "codemirror_mode": {
        "name": "ipython",
        "version": 3
      },
      "file_extension": ".py",
      "mimetype": "text/x-python",
      "name": "python",
      "nbconvert_exporter": "python",
      "pygments_lexer": "ipython3",
      "version": "3.10.17"
    }
  },
  "nbformat": 4,
  "nbformat_minor": 2
}
